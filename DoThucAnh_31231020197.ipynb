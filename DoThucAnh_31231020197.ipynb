{
  "nbformat": 4,
  "nbformat_minor": 0,
  "metadata": {
    "colab": {
      "provenance": []
    },
    "kernelspec": {
      "name": "python3",
      "display_name": "Python 3"
    },
    "language_info": {
      "name": "python"
    }
  },
  "cells": [
    {
      "cell_type": "code",
      "execution_count": null,
      "metadata": {
        "colab": {
          "base_uri": "https://localhost:8080/"
        },
        "id": "SSUog15a9JUV",
        "outputId": "3bc9dc31-6db0-4241-b34e-96abad8d4867"
      },
      "outputs": [
        {
          "output_type": "stream",
          "name": "stdout",
          "text": [
            "Nhap chuoi: anh\n",
            "do dai:  3\n"
          ]
        }
      ],
      "source": [
        "#1\n",
        "a = str(input(\"Nhap chuoi: \"))\n",
        "print (\"do dai: \", len(a))"
      ]
    },
    {
      "cell_type": "code",
      "source": [
        "#2\n",
        "a = input(str(\"Nhap chuoi: \"))\n",
        "String = {}\n",
        "for i in a:\n",
        "  if i in String:\n",
        "    String[i] += 1\n",
        "  else:\n",
        "    String[i] = 1\n",
        "print(String)"
      ],
      "metadata": {
        "colab": {
          "base_uri": "https://localhost:8080/"
        },
        "id": "ogwvnbFl9g__",
        "outputId": "dec76630-c98c-4dc1-e3c3-db6435d9e47d"
      },
      "execution_count": null,
      "outputs": [
        {
          "output_type": "stream",
          "name": "stdout",
          "text": [
            "Nhap chuoi: Hello word\n",
            "{'H': 1, 'e': 1, 'l': 2, 'o': 2, ' ': 1, 'w': 1, 'r': 1, 'd': 1}\n"
          ]
        }
      ]
    },
    {
      "cell_type": "code",
      "source": [
        "#3\n",
        "a = str(input(\"Nhap chuoi: \"))\n",
        "if len(a) >= 2:\n",
        "  print (a[:2] + a[-2:])\n",
        "else:\n",
        "  print (\"Empty string\")"
      ],
      "metadata": {
        "colab": {
          "base_uri": "https://localhost:8080/"
        },
        "id": "7wxXFLVW9_Ih",
        "outputId": "2a7ab1c2-d193-474e-87d8-622d2ed14960"
      },
      "execution_count": null,
      "outputs": [
        {
          "output_type": "stream",
          "name": "stdout",
          "text": [
            "Nhap chuoi: w3resource\n",
            "w3ce\n"
          ]
        }
      ]
    },
    {
      "cell_type": "code",
      "source": [
        "#4\n",
        "a = str(input(\"Nhap chuoi: \"))\n",
        "a1 = a[0]\n",
        "b = a1\n",
        "\n",
        "for char in a[1:]:\n",
        "  if char == a1:\n",
        "    b += \"$\"\n",
        "  else:\n",
        "    b += char\n",
        "\n",
        "print(b)"
      ],
      "metadata": {
        "colab": {
          "base_uri": "https://localhost:8080/"
        },
        "id": "2p7vv-ZX-ziZ",
        "outputId": "2f43b225-8c18-4256-e016-01a2dceea488"
      },
      "execution_count": null,
      "outputs": [
        {
          "output_type": "stream",
          "name": "stdout",
          "text": [
            "Nhap chuoi: character \n",
            "chara$ter \n"
          ]
        }
      ]
    },
    {
      "cell_type": "code",
      "source": [
        "#5\n",
        "a = str(input(\"Nhap chuoi: \"))\n",
        "b = str(input(\"Nhap chuoi thu 2: \"))\n",
        "print(b[:2] + a[2:] + \" \" + a[:2]+ b[2:])"
      ],
      "metadata": {
        "id": "s5k6aaFG_XHi"
      },
      "execution_count": null,
      "outputs": []
    },
    {
      "cell_type": "code",
      "source": [
        "#6\n",
        "a = str(input(\"Nhap chuoi: \"))\n",
        "if len(a) >= 3:\n",
        "  if a[-3:] == \"ing\":\n",
        "    print (a + \"ly\")\n",
        "  else:\n",
        "    print (a + \"ing\")\n",
        "else:\n",
        "  print (a)"
      ],
      "metadata": {
        "id": "6CqbYoPg-pA8"
      },
      "execution_count": null,
      "outputs": []
    },
    {
      "cell_type": "code",
      "source": [
        "#7\n",
        "a = str(input(\"Nhap chuoi: \"))\n",
        "result = a.replace(\"not that poor\", \"good!\")\n",
        "print(result)"
      ],
      "metadata": {
        "colab": {
          "base_uri": "https://localhost:8080/"
        },
        "id": "y8dphmbAAWlC",
        "outputId": "01bbd34c-cbdb-4aac-ebfb-789ed1d297c0"
      },
      "execution_count": null,
      "outputs": [
        {
          "output_type": "stream",
          "name": "stdout",
          "text": [
            "Nhap chuoi: The lyric is not that poor\n",
            "The lyric is good!\n"
          ]
        }
      ]
    },
    {
      "cell_type": "code",
      "source": [
        "# 8.\n",
        "def find_longest_word(strings):\n",
        "    longest = \"\"\n",
        "    max = 0\n",
        "\n",
        "    for word in strings:\n",
        "        if len(word) > max:\n",
        "            longest = word\n",
        "            max = len(word)\n",
        "\n",
        "    return longest, max\n",
        "\n",
        "words_list = (input(\"Nhap 1 chuoi bat ki: \")).split()\n",
        "longest, length = find_longest_word(words_list)\n",
        "print(\"Longest word:\", longest)\n",
        "print(\"Length:\", length)\n"
      ],
      "metadata": {
        "colab": {
          "base_uri": "https://localhost:8080/"
        },
        "id": "Wzubzv6i7JBU",
        "outputId": "9924f542-4ec2-4031-fca9-39b262681e5d"
      },
      "execution_count": null,
      "outputs": [
        {
          "output_type": "stream",
          "name": "stdout",
          "text": [
            "Nhap 1 chuoi bat ki: an anh minh hoang\n",
            "Longest word: hoang\n",
            "Length: 5\n"
          ]
        }
      ]
    },
    {
      "cell_type": "code",
      "source": [
        "#9\n",
        "a = str(input(\"Nhap chuoi: \"))\n",
        "b = int(input(\"Nhap so: \"))\n",
        "\n",
        "result = \"\"\n",
        "\n",
        "for i in range(len(a)):\n",
        "    if i == b:\n",
        "      result += \"\"\n",
        "    else:\n",
        "      result += a[i]\n",
        "\n",
        "print(result)"
      ],
      "metadata": {
        "colab": {
          "base_uri": "https://localhost:8080/"
        },
        "id": "VyykLoqC9Msa",
        "outputId": "0d3255b7-fbc0-4322-80ab-29c454ec13af"
      },
      "execution_count": null,
      "outputs": [
        {
          "output_type": "stream",
          "name": "stdout",
          "text": [
            "Nhap chuoi: nhathoang\n",
            "Nhap so: 4\n",
            "nhatoang\n"
          ]
        }
      ]
    },
    {
      "cell_type": "code",
      "source": [
        "#10\n",
        "a = str(input(\"Nhap chuoi: \"))\n",
        "a1 = a[0]\n",
        "a2 = a[-1]\n",
        "print(a2 + a[1:-1] + a1)"
      ],
      "metadata": {
        "colab": {
          "base_uri": "https://localhost:8080/"
        },
        "id": "6nWkw40E_PGd",
        "outputId": "2772a0a7-edc7-41f1-a5e1-8690449d839a"
      },
      "execution_count": null,
      "outputs": [
        {
          "output_type": "stream",
          "name": "stdout",
          "text": [
            "Nhap chuoi: Hehehehe\n",
            "eehehehH\n"
          ]
        }
      ]
    },
    {
      "cell_type": "code",
      "source": [
        "#11\n",
        "a = str(input(\"Nhap chuoi: \"))\n",
        "even_char = \"\"\n",
        "for i in range(len(a)):\n",
        "  if i % 2 == 0:\n",
        "    even_char += a[i]\n",
        "print(even_char)"
      ],
      "metadata": {
        "colab": {
          "base_uri": "https://localhost:8080/"
        },
        "id": "saycfeeK_isf",
        "outputId": "19876874-bfc7-4506-cbc7-9e7de31b0419"
      },
      "execution_count": null,
      "outputs": [
        {
          "output_type": "stream",
          "name": "stdout",
          "text": [
            "Nhap chuoi: nhathoang\n",
            "nahag\n"
          ]
        }
      ]
    },
    {
      "cell_type": "code",
      "source": [
        "#12\n",
        "a = str(input(\"Nhap chuoi: \"))\n",
        "count = {}\n",
        "words = a.split()\n",
        "\n",
        "for i in words:\n",
        "  if i in count:\n",
        "    count[i] += 1\n",
        "  else:\n",
        "    count[i] = 1\n",
        "print(count)\n"
      ],
      "metadata": {
        "colab": {
          "base_uri": "https://localhost:8080/"
        },
        "id": "hoTPIJ1RAZrI",
        "outputId": "3b6e9958-b63f-4c4b-db60-d954cc61800c"
      },
      "execution_count": null,
      "outputs": [
        {
          "output_type": "stream",
          "name": "stdout",
          "text": [
            "Nhap chuoi: kjhkj\n",
            "{'kjhkj': 1}\n"
          ]
        }
      ]
    },
    {
      "cell_type": "code",
      "source": [
        "# 13.\n",
        "a = str(input(\"Nhap chuoi: \"))\n",
        "print(a.upper())\n",
        "print(a.lower())"
      ],
      "metadata": {
        "colab": {
          "base_uri": "https://localhost:8080/"
        },
        "id": "AYYam1QMBpGp",
        "outputId": "f2c93891-5645-4ebf-c70b-d9613cafaa49"
      },
      "execution_count": null,
      "outputs": [
        {
          "output_type": "stream",
          "name": "stdout",
          "text": [
            "Nhap chuoi: sdg\n",
            "SDG\n",
            "sdg\n"
          ]
        }
      ]
    },
    {
      "cell_type": "code",
      "source": [
        "#14\n",
        "a = input(\"nhap chuoi co phay: \").split(\",\")\n",
        "\n",
        "words = []\n",
        "for i in a:\n",
        "  words.append(i.strip())\n",
        "\n",
        "b = []\n",
        "for i in words:\n",
        "  if i not in b:\n",
        "    b.append(i)\n",
        "\n",
        "print(\". \".join(sorted(b)))\n"
      ],
      "metadata": {
        "id": "gQblldSmB3x9"
      },
      "execution_count": null,
      "outputs": []
    },
    {
      "cell_type": "code",
      "source": [
        "#17\n",
        "a = str(input(\"Nhap chuoi: \"))\n",
        "if len(a) < 2:\n",
        "  print( \"empty string\")\n",
        "else:\n",
        "  print(a[-2:]*4)"
      ],
      "metadata": {
        "colab": {
          "base_uri": "https://localhost:8080/"
        },
        "id": "FRqWhcZ8rOJH",
        "outputId": "dab71f48-97bd-483a-af4d-b855afc7efd2"
      },
      "execution_count": null,
      "outputs": [
        {
          "output_type": "stream",
          "name": "stdout",
          "text": [
            "Nhap chuoi: hahiho\n",
            "hohohoho\n"
          ]
        }
      ]
    },
    {
      "cell_type": "code",
      "source": [
        "#18\n",
        "a = str(input(\"Nhap chuoi: \"))\n",
        "if len(a) >= 3:\n",
        "  print(a[:3])\n",
        "else:\n",
        "  print(a)"
      ],
      "metadata": {
        "colab": {
          "base_uri": "https://localhost:8080/"
        },
        "id": "hOSq1lyLrO6C",
        "outputId": "06eb1211-3215-47a6-d798-f34f96c1067b"
      },
      "execution_count": null,
      "outputs": [
        {
          "output_type": "stream",
          "name": "stdout",
          "text": [
            "Nhap chuoi: python\n",
            "pyt\n"
          ]
        }
      ]
    },
    {
      "cell_type": "code",
      "source": [
        "#20\n",
        "a = str(input(\"Nhap chuoi: \"))\n",
        "if len(a) % 4 == 0:\n",
        "  print(a[::-1])"
      ],
      "metadata": {
        "colab": {
          "base_uri": "https://localhost:8080/"
        },
        "id": "6TXB2EAHsW3S",
        "outputId": "24484ba3-3b62-4804-f45a-942fd2b8a2c4"
      },
      "execution_count": null,
      "outputs": [
        {
          "output_type": "stream",
          "name": "stdout",
          "text": [
            "Nhap chuoi: hiku\n",
            "ukih\n"
          ]
        }
      ]
    },
    {
      "cell_type": "code",
      "source": [
        "#21\n",
        "a = str(input(\"Nhap chuoi: \"))\n",
        "def upper_str(a):\n",
        "  count = 0\n",
        "  for char in a[:4]:\n",
        "    if char == char.upper():\n",
        "     count +=1\n",
        "     if count >=2:\n",
        "       return a.upper()\n",
        "\n",
        "print (upper_str(a))"
      ],
      "metadata": {
        "colab": {
          "base_uri": "https://localhost:8080/"
        },
        "id": "MGAuOL-Fs4ft",
        "outputId": "b097bf8e-5ccd-4634-a294-f39f91a092fb"
      },
      "execution_count": null,
      "outputs": [
        {
          "output_type": "stream",
          "name": "stdout",
          "text": [
            "Nhap chuoi: HEheeg\n",
            "HEHEEG\n"
          ]
        }
      ]
    },
    {
      "cell_type": "code",
      "source": [
        "#22\n",
        "a = str(input(\"Nhap chuoi: \"))\n",
        "\n",
        "Up = []\n",
        "Low = []\n",
        "number = []\n",
        "special = []\n",
        "\n",
        "for i in a:\n",
        "  if i.isupper():\n",
        "    Up.append(i)\n",
        "  elif i.islower():\n",
        "    Low.append(i)\n",
        "  elif i.isdigit():\n",
        "    number.append(i)\n",
        "  else:\n",
        "    special.append(i)\n",
        "\n",
        "result = sorted(Up) + sorted(Low) + sorted(number) + sorted(special)\n",
        "print(\" \".join(result))"
      ],
      "metadata": {
        "id": "Q30I3OsrtsiP",
        "colab": {
          "base_uri": "https://localhost:8080/"
        },
        "outputId": "ec9325f8-127f-4c9a-9b88-40c8910fbc53"
      },
      "execution_count": null,
      "outputs": [
        {
          "output_type": "stream",
          "name": "stdout",
          "text": [
            "Nhap chuoi: k,hmnfgnhb-0oi5y6t5\n",
            "b f g h h i k m n n o t y 0 5 5 6 , -\n"
          ]
        }
      ]
    },
    {
      "cell_type": "code",
      "source": [
        "#23\n",
        "a = str(input(\"Nhap chuoi co dong: \"))\n",
        "print(a.replace(\"\\n\", \" \"))"
      ],
      "metadata": {
        "colab": {
          "base_uri": "https://localhost:8080/"
        },
        "id": "f3Qonh1MwANa",
        "outputId": "c5e76a14-a538-4196-c389-3ed52499f64e"
      },
      "execution_count": 19,
      "outputs": [
        {
          "output_type": "stream",
          "name": "stdout",
          "text": [
            "Nhap chuoi co dong: Hello World\n",
            "Hello World\n"
          ]
        }
      ]
    },
    {
      "cell_type": "code",
      "source": [
        "#24\n",
        "a= str(input(\"Nhap chuoi: \"))\n",
        "\n",
        "x = a.startswith(\"Hello\")\n",
        "\n",
        "print(x)"
      ],
      "metadata": {
        "colab": {
          "base_uri": "https://localhost:8080/"
        },
        "id": "7Xu-AOF3wn1e",
        "outputId": "73eaf341-6571-4154-b2f0-b034e40508ec"
      },
      "execution_count": 22,
      "outputs": [
        {
          "output_type": "stream",
          "name": "stdout",
          "text": [
            "Nhap chuoi: Hello, good morning\n",
            "True\n"
          ]
        }
      ]
    },
    {
      "cell_type": "code",
      "source": [
        "#25\n",
        "def caesar_encrypt(Text, step):\n",
        "    out = []\n",
        "    crypt = []\n",
        "\n",
        "    uppercase = ['A', 'B', 'C', 'D', 'E', 'F', 'G', 'H', 'I', 'J', 'K', 'L', 'M', 'N', 'O', 'P', 'Q', 'R', 'S', 'T', 'U', 'V', 'W', 'X', 'Y', 'Z']\n",
        "    lowercase = ['a', 'b', 'c', 'd', 'e', 'f', 'g', 'h', 'i', 'j', 'k', 'l', 'm', 'n', 'o', 'p', 'q', 'r', 's', 't', 'u', 'v', 'w', 'x', 'y', 'z']\n",
        "\n",
        "    for eachLetter in Text:\n",
        "        if eachLetter in uppercase:\n",
        "            index = uppercase.index(eachLetter)\n",
        "\n",
        "            crypting = (index + step) % 26\n",
        "            crypt.append(crypting)\n",
        "\n",
        "            newLetter = uppercase[crypting]\n",
        "            out.append(newLetter)\n",
        "\n",
        "        elif eachLetter in lowercase:\n",
        "            index = lowercase.index(eachLetter)\n",
        "\n",
        "            crypting = (index + step) % 26\n",
        "            crypt.append(crypting)\n",
        "\n",
        "            newLetter = lowercase[crypting]\n",
        "            out.append(newLetter)\n",
        "\n",
        "    return out\n",
        "a = str(input(\"Nhap chuoi: \"))\n",
        "b = int(input(\"Nhap so: \"))\n",
        "print(caesar_encrypt(a, b))\n"
      ],
      "metadata": {
        "colab": {
          "base_uri": "https://localhost:8080/"
        },
        "id": "p3RYs8fjxHQY",
        "outputId": "e438f03f-e88a-4bab-b1b7-a66043c82d6a"
      },
      "execution_count": 26,
      "outputs": [
        {
          "output_type": "stream",
          "name": "stdout",
          "text": [
            "Nhap chuoi: heheheh\n",
            "Nhap so: 4\n",
            "['l', 'i', 'l', 'i', 'l', 'i', 'l']\n"
          ]
        }
      ]
    },
    {
      "cell_type": "code",
      "source": [
        "#26\n",
        "import textwrap\n",
        "\n",
        "a = \"\"\"Painting is a timeless form of artistic expression that conveys emotions, stories, and ideas. From ancient cave paintings to modern digital art, it has evolved across cultures and eras. Artists use color, texture, and composition to create visually compelling works that inspire and provoke thought.\"\"\"\n",
        "\n",
        "format = textwrap.fill(a, width=50)\n",
        "\n",
        "print(format)"
      ],
      "metadata": {
        "colab": {
          "base_uri": "https://localhost:8080/"
        },
        "id": "Ux-_Di6zzeex",
        "outputId": "4a09d1d9-3b7b-4682-83d0-89cb1fb229ad"
      },
      "execution_count": 28,
      "outputs": [
        {
          "output_type": "stream",
          "name": "stdout",
          "text": [
            "Painting is a timeless form of artistic expression\n",
            "that conveys emotions, stories, and ideas. From\n",
            "ancient cave paintings to modern digital art, it\n",
            "has evolved across cultures and eras. Artists use\n",
            "color, texture, and composition to create visually\n",
            "compelling works that inspire and provoke thought.\n"
          ]
        }
      ]
    },
    {
      "cell_type": "code",
      "source": [
        "#27\n",
        "a ='''\n",
        "      Painting is a timeless form of artistic expression that conveys emotions, stories, and ideas.\n",
        "      From ancient cave paintings to modern digital art, it has evolved across cultures and eras.\n",
        "      Artists use color, texture, and composition to create visually compelling works that inspire and provoke thought.\n",
        "'''\n",
        "clean = textwrap.dedent(a)\n",
        "\n",
        "print(clean)"
      ],
      "metadata": {
        "colab": {
          "base_uri": "https://localhost:8080/"
        },
        "id": "s5cb5M18z2dr",
        "outputId": "cb492815-104f-4ccf-aa18-b8a292cf467a"
      },
      "execution_count": 30,
      "outputs": [
        {
          "output_type": "stream",
          "name": "stdout",
          "text": [
            "\n",
            "Painting is a timeless form of artistic expression that conveys emotions, stories, and ideas. \n",
            "From ancient cave paintings to modern digital art, it has evolved across cultures and eras. \n",
            "Artists use color, texture, and composition to create visually compelling works that inspire and provoke thought.\n",
            "\n"
          ]
        }
      ]
    },
    {
      "cell_type": "code",
      "source": [
        "#28\n",
        "a ='''\n",
        "      Painting is a timeless form of artistic expression that conveys emotions, stories, and ideas.\n",
        "      From ancient cave paintings to modern digital art, it has evolved across cultures and eras.\n",
        "      Artists use color, texture, and composition to create visually compelling works that inspire and provoke thought.\n",
        "'''\n",
        "print(a.splitlines())"
      ],
      "metadata": {
        "id": "-7odrtYZ1QJp"
      },
      "execution_count": null,
      "outputs": []
    },
    {
      "cell_type": "code",
      "source": [
        "#30\n",
        "x = 3.5343543\n",
        "print(\"{:.2f}\".format(x))\n",
        "y = 11.535466\n",
        "print(\"{:.2f}\".format(y))\n"
      ],
      "metadata": {
        "colab": {
          "base_uri": "https://localhost:8080/"
        },
        "id": "o9cVIDq92LnS",
        "outputId": "04f84046-c5d1-49ab-b9dd-027ecfd5120b"
      },
      "execution_count": 36,
      "outputs": [
        {
          "output_type": "stream",
          "name": "stdout",
          "text": [
            "3.53\n",
            "11.54\n"
          ]
        }
      ]
    },
    {
      "cell_type": "code",
      "source": [
        "#35\n",
        "a = int(input(\"Nhap so: \"))\n",
        "print(\"{:,}\".format(a))\n"
      ],
      "metadata": {
        "colab": {
          "base_uri": "https://localhost:8080/"
        },
        "id": "pgvknsRb5QAL",
        "outputId": "d6ae2bd8-75b1-444e-f44d-c9449767e1b8"
      },
      "execution_count": 45,
      "outputs": [
        {
          "output_type": "stream",
          "name": "stdout",
          "text": [
            "Nhap so: 12548965\n",
            "12,548,965\n"
          ]
        }
      ]
    },
    {
      "cell_type": "code",
      "source": [
        "#36\n",
        "a = float(input(\"Enter a number: \"))\n",
        "percentage = a / 100\n",
        "print(f\"{percentage:.2f}\")\n"
      ],
      "metadata": {
        "colab": {
          "base_uri": "https://localhost:8080/"
        },
        "id": "ekR2ye2H5gyU",
        "outputId": "777f2b7b-5272-4eda-800f-b3b6e11b33ec"
      },
      "execution_count": 48,
      "outputs": [
        {
          "output_type": "stream",
          "name": "stdout",
          "text": [
            "Enter a number: 14\n",
            "0.14\n"
          ]
        }
      ]
    },
    {
      "cell_type": "code",
      "source": [
        "#38\n",
        "a = 'The lady standing over there has a white lace dress that gleaming in the sun.'\n",
        "\n",
        "print(a.count(\"the\"))\n",
        "\n"
      ],
      "metadata": {
        "colab": {
          "base_uri": "https://localhost:8080/"
        },
        "id": "3v_ONtUJ6Cah",
        "outputId": "153ab938-c982-4cd7-e5c6-614eb6926206"
      },
      "execution_count": 54,
      "outputs": [
        {
          "output_type": "stream",
          "name": "stdout",
          "text": [
            "2\n"
          ]
        }
      ]
    },
    {
      "cell_type": "code",
      "source": [
        "#39\n",
        "a = str(input(\"Nhap chuoi: \"))\n",
        "print(a[::-1])"
      ],
      "metadata": {
        "colab": {
          "base_uri": "https://localhost:8080/"
        },
        "id": "BKwXKPPX6p-V",
        "outputId": "b991c8ed-3885-4695-980a-0a698dd237a4"
      },
      "execution_count": 55,
      "outputs": [
        {
          "output_type": "stream",
          "name": "stdout",
          "text": [
            "Nhap chuoi: hiojk\n",
            "kjoih\n"
          ]
        }
      ]
    },
    {
      "cell_type": "code",
      "source": [
        "def reverse_words(a):\n",
        "  words = a.split()\n",
        "  reversed_words = words[::-1]\n",
        "  return \" \".join(reversed_words)\n",
        "\n",
        "a = input(\"Enter a string: \")\n",
        "reversed_string = reverse_words(a)\n",
        "print(\"Reversed string:\", reversed_string)\n"
      ],
      "metadata": {
        "colab": {
          "base_uri": "https://localhost:8080/"
        },
        "id": "wUcueGZH7rjn",
        "outputId": "3dcdf27b-c3a5-471f-d778-0be43a6b6303"
      },
      "execution_count": 62,
      "outputs": [
        {
          "output_type": "stream",
          "name": "stdout",
          "text": [
            "Enter a string: hello world\n",
            "Reversed string: world hello\n"
          ]
        }
      ]
    },
    {
      "cell_type": "code",
      "source": [
        "#41\n",
        "def strip_chars(input_string, chars):\n",
        "    result = ''.join(char for char in input_string if char not in chars)\n",
        "    return result\n",
        "\n",
        "a = \"Good morning\"\n",
        "chars_to_strip = \"o,n\"\n",
        "stripped_string = strip_chars(a, chars_to_strip)\n",
        "print(f\"Original string: {a}\")\n",
        "print(f\"Stripped string: {stripped_string}\")\n"
      ],
      "metadata": {
        "colab": {
          "base_uri": "https://localhost:8080/"
        },
        "id": "1Loacw8p72j2",
        "outputId": "5da1afa7-10ba-463d-e08d-4940c8119f0b"
      },
      "execution_count": 64,
      "outputs": [
        {
          "output_type": "stream",
          "name": "stdout",
          "text": [
            "Original string: Good morning\n",
            "Stripped string: Gd mrig\n"
          ]
        }
      ]
    },
    {
      "cell_type": "code",
      "source": [
        "#42\n",
        "import collections\n",
        "\n",
        "a = 'The lady standing over there has a white lace dress that gleaming in the sun.'\n",
        "d = collections.defaultdict(int)\n",
        "for c in a:\n",
        "    d[c] += 1\n",
        "for c in sorted(d, key=d.get, reverse=True):\n",
        "    if d[c] > 1:\n",
        "        print('%s %d' % (c, d[c]))"
      ],
      "metadata": {
        "colab": {
          "base_uri": "https://localhost:8080/"
        },
        "id": "p0q_T0NL8PGl",
        "outputId": "f3ffbb4f-6111-4f36-b749-e11ed522068d"
      },
      "execution_count": 65,
      "outputs": [
        {
          "output_type": "stream",
          "name": "stdout",
          "text": [
            "  14\n",
            "e 9\n",
            "a 7\n",
            "h 6\n",
            "t 6\n",
            "s 5\n",
            "n 5\n",
            "i 4\n",
            "l 3\n",
            "d 3\n",
            "g 3\n",
            "r 3\n"
          ]
        }
      ]
    },
    {
      "cell_type": "code",
      "source": [
        "def char_index(string):\n",
        "  for index, char in enumerate(string):\n",
        "    print(f\"Current character {char} position at {index}\")\n",
        "\n",
        "sample_string = \"Good mornign\"\n",
        "char_index(sample_string)\n"
      ],
      "metadata": {
        "colab": {
          "base_uri": "https://localhost:8080/"
        },
        "id": "bdWt-KYY-ZYL",
        "outputId": "1240743e-007e-4bcb-b0d9-e1b9b4675cf3"
      },
      "execution_count": 71,
      "outputs": [
        {
          "output_type": "stream",
          "name": "stdout",
          "text": [
            "Current character G position at 0\n",
            "Current character o position at 1\n",
            "Current character o position at 2\n",
            "Current character d position at 3\n",
            "Current character   position at 4\n",
            "Current character m position at 5\n",
            "Current character o position at 6\n",
            "Current character r position at 7\n",
            "Current character n position at 8\n",
            "Current character i position at 9\n",
            "Current character g position at 10\n",
            "Current character n position at 11\n"
          ]
        }
      ]
    },
    {
      "cell_type": "code",
      "source": [
        "# 47.\n",
        "get_str = input(\"Nhap chuoi: \")\n",
        "low = int(input(\"chuoi duoc ghi thuong den: \"))\n",
        "\n",
        "result = get_str[:low].lower() + get_str[low:]\n",
        "\n",
        "print(result)"
      ],
      "metadata": {
        "colab": {
          "base_uri": "https://localhost:8080/"
        },
        "id": "oS3prNrA9CAa",
        "outputId": "8729ecb2-b4a2-4ce3-b3e2-24bac11e3bec"
      },
      "execution_count": 68,
      "outputs": [
        {
          "output_type": "stream",
          "name": "stdout",
          "text": [
            "Nhập chuoi: fjhlskj\n",
            "chuoi duoc ghi thuong den: 3\n",
            "fjhlskj\n"
          ]
        }
      ]
    },
    {
      "cell_type": "code",
      "source": [
        "# 48.\n",
        "a = input(\"Nhap chuoi: \")\n",
        "\n",
        "swapp = []\n",
        "\n",
        "for char in a:\n",
        "    if char == \".\":\n",
        "      swapp.append(\",\")\n",
        "    elif char == \",\":\n",
        "      swapp.append(\".\")\n",
        "    else:\n",
        "       swapp.append(char)\n",
        "\n",
        "print(\"\".join(swapp))"
      ],
      "metadata": {
        "colab": {
          "base_uri": "https://localhost:8080/"
        },
        "id": "Kv78njRd1Vr-",
        "outputId": "85431698-0289-472e-96c5-f7d4e993f5d2"
      },
      "execution_count": 34,
      "outputs": [
        {
          "output_type": "stream",
          "name": "stdout",
          "text": [
            "Nhập chuoi: hh.k\n",
            "hh,k\n"
          ]
        }
      ]
    },
    {
      "cell_type": "code",
      "source": [
        "# 49.\n",
        "a = input(\"Nhap chuoi: \")\n",
        "\n",
        "vowels = {\"u\", \"e\", \"a\", \"o\", \"i\"}\n",
        "is_vowel = [char for char in a if char in vowels]\n",
        "\n",
        "print(f\"So luong so nguyen am: {len(is_vowel)}\")\n",
        "print(f\"cac chu cai nguyen am: {''.join(is_vowel)}\")"
      ],
      "metadata": {
        "colab": {
          "base_uri": "https://localhost:8080/"
        },
        "id": "AoKC4W_m9RUS",
        "outputId": "a6cc3639-2c77-4d2a-e140-7225546bd9a1"
      },
      "execution_count": 70,
      "outputs": [
        {
          "output_type": "stream",
          "name": "stdout",
          "text": [
            "Nhap chuoi: dfsgva\n",
            "So luong so nguyen am: 1\n",
            "cac chu cai nguyen am: a\n"
          ]
        }
      ]
    },
    {
      "cell_type": "code",
      "source": [
        "#51\n",
        "def Norepeat(string):\n",
        "    counts = {}\n",
        "    for char in string:\n",
        "        counts[char] = counts.get(char, 0) + 1\n",
        "    for char in string:\n",
        "        if counts[char] == 1:\n",
        "            return char\n",
        "    return None\n",
        "\n",
        "a = str(input(\"Nhap chuoi: \"))\n",
        "result = Norepeat(a)\n",
        "\n",
        "if result:\n",
        "    print(f\"chu khong bi lap lai: {result}\")\n",
        "else:\n",
        "    print(\"khong co chu nao bi lap lai\")"
      ],
      "metadata": {
        "colab": {
          "base_uri": "https://localhost:8080/"
        },
        "id": "9YWxDJJA-nez",
        "outputId": "b5ae9bfa-267a-44cf-d85b-9b72fc4c359b"
      },
      "execution_count": 72,
      "outputs": [
        {
          "output_type": "stream",
          "name": "stdout",
          "text": [
            "Nhap chuoi: abcab\n",
            "chu khong bi lap lai: c\n"
          ]
        }
      ]
    },
    {
      "cell_type": "code",
      "source": [
        "#53\n",
        "def Repeat(string):\n",
        "    counts = {}\n",
        "    for char in string:\n",
        "        if char in counts:\n",
        "            return char\n",
        "        counts[char] = 1\n",
        "    return None\n",
        "\n",
        "a = str(input(\"Nhap chuoi: \"))\n",
        "result = Repeat(a)\n",
        "\n",
        "if result:\n",
        "    print(f\"chu dau tien bi lap lai: {result}\")\n",
        "else:\n",
        "    print(\"khong co chu nao lap lai\")\n"
      ],
      "metadata": {
        "colab": {
          "base_uri": "https://localhost:8080/"
        },
        "id": "c1__uUSN_Ino",
        "outputId": "5d56d508-f96d-43b5-a5c5-632633dcf87c"
      },
      "execution_count": 73,
      "outputs": [
        {
          "output_type": "stream",
          "name": "stdout",
          "text": [
            "Nhap chuoi: abcab\n",
            "chu dau tien bi lap lai: a\n"
          ]
        }
      ]
    },
    {
      "cell_type": "code",
      "source": [
        "#60\n",
        "def capitalize(text):\n",
        "    words = text.split()\n",
        "    result = []\n",
        "    for word in words:\n",
        "        if len(word) > 1:\n",
        "            result.append(word[0].upper() + word[1:-1] + word[-1].upper())\n",
        "        elif len(word) == 1:\n",
        "            result.append(word[0].upper())\n",
        "        else:\n",
        "            result.append(\"\")\n",
        "    return \" \".join(result)\n",
        "\n",
        "a = str(input(\"Nhap chuoi: \"))\n",
        "result = capitalize(a)\n",
        "print(result)\n"
      ],
      "metadata": {
        "colab": {
          "base_uri": "https://localhost:8080/"
        },
        "id": "FbvgNFsKJcNJ",
        "outputId": "af1ad9ca-e0ba-437f-a5b8-173368c86831"
      },
      "execution_count": 93,
      "outputs": [
        {
          "output_type": "stream",
          "name": "stdout",
          "text": [
            "Nhap chuoi: dsklzjhflkzw\n",
            "DsklzjhflkzW\n"
          ]
        }
      ]
    },
    {
      "cell_type": "code",
      "source": [
        "# 70\n",
        "def uncommon_chars(a, b2):\n",
        "    combined_str = \"\"\n",
        "\n",
        "    for char in a:\n",
        "        if char not in b and char not in combined_str:\n",
        "            combined_str += char\n",
        "    for char in b:\n",
        "        if char not in a and char not in combined_str:\n",
        "            combined_str += char\n",
        "    return combined_str\n",
        "\n",
        "a = str(input(\"Nhap chuoi: \"))\n",
        "b = str(input(\"Nhap chuoi: \"))\n",
        "result = uncommon_chars(a, b)\n",
        "print(result)"
      ],
      "metadata": {
        "colab": {
          "base_uri": "https://localhost:8080/"
        },
        "id": "IErcurLRIicL",
        "outputId": "5e389173-01d4-41cf-bb14-f7df89c34fd9"
      },
      "execution_count": 91,
      "outputs": [
        {
          "output_type": "stream",
          "name": "stdout",
          "text": [
            "Nhap chuoi: An\n",
            "Nhap chuoi: Anh\n",
            "h\n"
          ]
        }
      ]
    },
    {
      "cell_type": "code",
      "source": [
        "# 77\n",
        "def count(s):\n",
        "    n = len(s)\n",
        "    return n * (n + 1) // 2\n",
        "\n",
        "a = \"abcdefg\"\n",
        "count = count(a)\n",
        "print(count)\n"
      ],
      "metadata": {
        "colab": {
          "base_uri": "https://localhost:8080/"
        },
        "id": "HwaiznfmIPYQ",
        "outputId": "041e8857-6b92-47ab-9f99-3215e243d311"
      },
      "execution_count": 89,
      "outputs": [
        {
          "output_type": "stream",
          "name": "stdout",
          "text": [
            "28\n"
          ]
        }
      ]
    },
    {
      "cell_type": "code",
      "source": [
        "#79\n",
        "def Smallest(text):\n",
        "    words = text.split()\n",
        "    if not words:\n",
        "        return None, None\n",
        "\n",
        "    smallest_word = min(words, key=len)\n",
        "    largest_word = max(words, key=len)\n",
        "\n",
        "    return smallest_word, largest_word\n",
        "\n",
        "input_string = \"The lady standing over there has a white lace dress that gleaming in the sun.\"\n",
        "smallest, largest = Smallest(input_string)\n",
        "\n",
        "if smallest is not None and largest is not None:\n",
        "    print(\"chu nho nhat:\", smallest)\n",
        "    print(\"chu lon nhat:\", largest)\n",
        "else:\n",
        "    print(\"Empty!.\")\n"
      ],
      "metadata": {
        "colab": {
          "base_uri": "https://localhost:8080/"
        },
        "id": "_XlwWvLVAOQq",
        "outputId": "d385bc6b-0789-4465-97fb-e0ccf755709e"
      },
      "execution_count": 74,
      "outputs": [
        {
          "output_type": "stream",
          "name": "stdout",
          "text": [
            "chu nho nhat: a\n",
            "chu lon nhat: standing\n"
          ]
        }
      ]
    },
    {
      "cell_type": "code",
      "source": [
        "#86\n",
        "def delete(string, char):\n",
        "    modified = string.replace(char, \"\")\n",
        "    return modified\n",
        "\n",
        "a = \"The lady standing over there has a white lace dress that gleaming in the sun.\"\n",
        "b = \"a\"\n",
        "result = delete(a, b)\n",
        "print(result)\n"
      ],
      "metadata": {
        "colab": {
          "base_uri": "https://localhost:8080/"
        },
        "id": "F-9jgi1lA3rO",
        "outputId": "7574ce04-be60-43ed-ea9f-3ff702792b5f"
      },
      "execution_count": 76,
      "outputs": [
        {
          "output_type": "stream",
          "name": "stdout",
          "text": [
            "The ldy stnding over there hs  white lce dress tht gleming in the sun.\n"
          ]
        }
      ]
    },
    {
      "cell_type": "code",
      "source": [
        "#87\n",
        "def common_values(a, b):\n",
        "    common = \"\"\n",
        "    for char in a:\n",
        "        if char in b and char not in common:\n",
        "            common += char\n",
        "    return common\n",
        "\n",
        "a = str(input(\"Nhap chuoi: \"))\n",
        "b = str(input(\"Nhap chuoi: \"))\n",
        "result = common_values(a, b)\n",
        "print(result)\n"
      ],
      "metadata": {
        "colab": {
          "base_uri": "https://localhost:8080/"
        },
        "id": "YNNjXE4AH1Pe",
        "outputId": "e8e250da-7edc-47f1-cf34-a970d79bc1b6"
      },
      "execution_count": 88,
      "outputs": [
        {
          "output_type": "stream",
          "name": "stdout",
          "text": [
            "Nhap chuoi: python 2.3\n",
            "Nhap chuoi: python 3.7\n",
            "python .3\n"
          ]
        }
      ]
    },
    {
      "cell_type": "code",
      "source": [
        "#88\n",
        "import re\n",
        "\n",
        "def check_string(input_string):\n",
        "\n",
        "    if len(input_string) < 8:\n",
        "        return False\n",
        "\n",
        "    if not re.search(\"[A-Z]\", input_string):\n",
        "        return False\n",
        "\n",
        "    if not re.search(\"[a-z]\", input_string):\n",
        "        return False\n",
        "\n",
        "    if not re.search(\"[0-9]\", input_string):\n",
        "        return False\n",
        "\n",
        "    return True\n",
        "\n",
        "a = input(\"Nhap chuoi: \")\n",
        "\n",
        "if check_string(input_string):\n",
        "    print([\"hop le\"])\n",
        "else:\n",
        "    print([\"khong hop le\"])\n"
      ],
      "metadata": {
        "colab": {
          "base_uri": "https://localhost:8080/"
        },
        "id": "mNn2DxzDHi0V",
        "outputId": "c5610e6b-4181-4d44-e669-6cc0b51f7bea"
      },
      "execution_count": 87,
      "outputs": [
        {
          "output_type": "stream",
          "name": "stdout",
          "text": [
            "Input the string: aksdjfakwA\n",
            "['Invalid string.']\n"
          ]
        }
      ]
    },
    {
      "cell_type": "code",
      "source": [
        "#98\n",
        "def decapitalize(string):\n",
        "    if not string:\n",
        "        return string\n",
        "    return string[0].lower() + string[1:]\n",
        "a = str(input(\"Nhap chuoi: \"))\n",
        "result = decapitalize(a)\n",
        "print(result)\n",
        "\n"
      ],
      "metadata": {
        "colab": {
          "base_uri": "https://localhost:8080/"
        },
        "id": "jqS-4-EHHJIx",
        "outputId": "2d56fd29-54d7-4b6b-c4fa-a299d9b9a4df"
      },
      "execution_count": 86,
      "outputs": [
        {
          "output_type": "stream",
          "name": "stdout",
          "text": [
            "Nhap chuoi: Java\n",
            "java\n"
          ]
        }
      ]
    },
    {
      "cell_type": "code",
      "source": [
        "#99\n",
        "a = '''\n",
        "      The lady standing\n",
        "      over there has a white\n",
        "      lace dress that gleaming\n",
        "      in the sun.\n",
        "'''\n",
        "print(a.splitlines())\n"
      ],
      "metadata": {
        "colab": {
          "base_uri": "https://localhost:8080/"
        },
        "id": "qEFOeYsWG2M3",
        "outputId": "dcdf6685-faf9-499b-a293-ef864e3912bd"
      },
      "execution_count": 85,
      "outputs": [
        {
          "output_type": "stream",
          "name": "stdout",
          "text": [
            "['', '      The lady standing ', '      over there has a white ', '      lace dress that gleaming ', '      in the sun.']\n"
          ]
        }
      ]
    },
    {
      "cell_type": "code",
      "source": [
        "#104\n",
        "def capitalize(string):\n",
        "  if not string:\n",
        "    return string\n",
        "  return string[0].upper() + string[1:].lower()\n",
        "\n",
        "a = \"GoOd MorNINg\"\n",
        "capitalized = capitalize(a)\n",
        "print(a)\n",
        "print(capitalized)\n"
      ],
      "metadata": {
        "colab": {
          "base_uri": "https://localhost:8080/"
        },
        "id": "nB4KG9KsFKPw",
        "outputId": "b9723724-1f95-4c65-e2d8-120e9453c26b"
      },
      "execution_count": 77,
      "outputs": [
        {
          "output_type": "stream",
          "name": "stdout",
          "text": [
            "GoOd MorNINg\n",
            "Good morning\n"
          ]
        }
      ]
    },
    {
      "cell_type": "code",
      "source": [
        "#106\n",
        "def remove(string):\n",
        "    if not string:\n",
        "        return \"\"\n",
        "\n",
        "    result = [string[0]]\n",
        "    for i in range(1, len(string)):\n",
        "        if string[i] != string[i - 1]:\n",
        "            result.append(string[i])\n",
        "    return \"\".join(result)\n",
        "\n",
        "strings = [\"Red Green White\", \"aabbbcdeffff\", \"Yellowwooddoor\"]\n",
        "for string in strings:\n",
        "    updated_string = remove(string)\n",
        "    print(f'\"{string}\" -> \"{updated_string}\"')\n"
      ],
      "metadata": {
        "colab": {
          "base_uri": "https://localhost:8080/"
        },
        "id": "YVuPw-uoFgO0",
        "outputId": "7ee2b8e3-88b7-4894-8523-ef8984357505"
      },
      "execution_count": 82,
      "outputs": [
        {
          "output_type": "stream",
          "name": "stdout",
          "text": [
            "\"Red Green White\" -> \"Red Gren White\"\n",
            "\"aabbbcdeffff\" -> \"abcdef\"\n",
            "\"Yellowwooddoor\" -> \"Yelowodor\"\n"
          ]
        }
      ]
    },
    {
      "cell_type": "code",
      "source": [
        "#110\n",
        "def insert_spaces(word):\n",
        "    result = \"\"\n",
        "    for i, char in enumerate(word):\n",
        "        result += char\n",
        "        if i < len(word) - 1 and char.islower() and word[i+1].isupper():\n",
        "            result += \" \"\n",
        "    return result\n",
        "a = str(input(\"Nhap chuoi: \"))\n",
        "print(insert_spaces(a))"
      ],
      "metadata": {
        "colab": {
          "base_uri": "https://localhost:8080/"
        },
        "id": "nG7FakSvF6Wr",
        "outputId": "4d0cd397-8645-48d7-f46a-3bb48d939121"
      },
      "execution_count": 83,
      "outputs": [
        {
          "output_type": "stream",
          "name": "stdout",
          "text": [
            "Nhap chuoi: PythonExercisesPracticeSolution\\\n",
            "Python Exercises Practice Solution\\\n"
          ]
        }
      ]
    }
  ]
}